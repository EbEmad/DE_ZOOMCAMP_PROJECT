{
 "cells": [
  {
   "cell_type": "code",
   "execution_count": 3,
   "metadata": {},
   "outputs": [],
   "source": [
    "import pandas as pd"
   ]
  },
  {
   "cell_type": "code",
   "execution_count": 4,
   "metadata": {},
   "outputs": [],
   "source": [
    "df=pd.read_csv('./data/table_1.csv')"
   ]
  },
  {
   "cell_type": "code",
   "execution_count": 5,
   "metadata": {},
   "outputs": [
    {
     "data": {
      "text/html": [
       "<div>\n",
       "<style scoped>\n",
       "    .dataframe tbody tr th:only-of-type {\n",
       "        vertical-align: middle;\n",
       "    }\n",
       "\n",
       "    .dataframe tbody tr th {\n",
       "        vertical-align: top;\n",
       "    }\n",
       "\n",
       "    .dataframe thead th {\n",
       "        text-align: right;\n",
       "    }\n",
       "</style>\n",
       "<table border=\"1\" class=\"dataframe\">\n",
       "  <thead>\n",
       "    <tr style=\"text-align: right;\">\n",
       "      <th></th>\n",
       "      <th>#</th>\n",
       "      <th>Country (ordependency)</th>\n",
       "      <th>Population(2025)</th>\n",
       "      <th>YearlyChange</th>\n",
       "      <th>NetChange</th>\n",
       "      <th>Density(P/Km²)</th>\n",
       "      <th>Land Area(Km²)</th>\n",
       "      <th>Migrants(net)</th>\n",
       "      <th>Fert.Rate</th>\n",
       "      <th>MedianAge</th>\n",
       "      <th>UrbanPop %</th>\n",
       "      <th>WorldShare</th>\n",
       "    </tr>\n",
       "  </thead>\n",
       "  <tbody>\n",
       "    <tr>\n",
       "      <th>0</th>\n",
       "      <td>1</td>\n",
       "      <td>India</td>\n",
       "      <td>1,463,865,525</td>\n",
       "      <td>0.89%</td>\n",
       "      <td>12,929,734</td>\n",
       "      <td>492</td>\n",
       "      <td>2,973,190</td>\n",
       "      <td>−495,753</td>\n",
       "      <td>1.94</td>\n",
       "      <td>28.8</td>\n",
       "      <td>37.1%</td>\n",
       "      <td>17.78%</td>\n",
       "    </tr>\n",
       "    <tr>\n",
       "      <th>1</th>\n",
       "      <td>2</td>\n",
       "      <td>China</td>\n",
       "      <td>1,416,096,094</td>\n",
       "      <td>−0.23%</td>\n",
       "      <td>−3,225,184</td>\n",
       "      <td>151</td>\n",
       "      <td>9,388,211</td>\n",
       "      <td>−268,126</td>\n",
       "      <td>1.02</td>\n",
       "      <td>40.1</td>\n",
       "      <td>67.5%</td>\n",
       "      <td>17.20%</td>\n",
       "    </tr>\n",
       "    <tr>\n",
       "      <th>2</th>\n",
       "      <td>3</td>\n",
       "      <td>United States</td>\n",
       "      <td>347,275,807</td>\n",
       "      <td>0.54%</td>\n",
       "      <td>1,849,236</td>\n",
       "      <td>38</td>\n",
       "      <td>9,147,420</td>\n",
       "      <td>1,230,663</td>\n",
       "      <td>1.62</td>\n",
       "      <td>38.5</td>\n",
       "      <td>82.8%</td>\n",
       "      <td>4.22%</td>\n",
       "    </tr>\n",
       "    <tr>\n",
       "      <th>3</th>\n",
       "      <td>4</td>\n",
       "      <td>Indonesia</td>\n",
       "      <td>285,721,236</td>\n",
       "      <td>0.79%</td>\n",
       "      <td>2,233,305</td>\n",
       "      <td>158</td>\n",
       "      <td>1,811,570</td>\n",
       "      <td>−39,509</td>\n",
       "      <td>2.10</td>\n",
       "      <td>30.4</td>\n",
       "      <td>59.6%</td>\n",
       "      <td>3.47%</td>\n",
       "    </tr>\n",
       "    <tr>\n",
       "      <th>4</th>\n",
       "      <td>5</td>\n",
       "      <td>Pakistan</td>\n",
       "      <td>255,219,554</td>\n",
       "      <td>1.57%</td>\n",
       "      <td>3,950,390</td>\n",
       "      <td>331</td>\n",
       "      <td>770,880</td>\n",
       "      <td>−1,235,336</td>\n",
       "      <td>3.50</td>\n",
       "      <td>20.6</td>\n",
       "      <td>34.4%</td>\n",
       "      <td>3.10%</td>\n",
       "    </tr>\n",
       "    <tr>\n",
       "      <th>...</th>\n",
       "      <td>...</td>\n",
       "      <td>...</td>\n",
       "      <td>...</td>\n",
       "      <td>...</td>\n",
       "      <td>...</td>\n",
       "      <td>...</td>\n",
       "      <td>...</td>\n",
       "      <td>...</td>\n",
       "      <td>...</td>\n",
       "      <td>...</td>\n",
       "      <td>...</td>\n",
       "      <td>...</td>\n",
       "    </tr>\n",
       "    <tr>\n",
       "      <th>228</th>\n",
       "      <td>229</td>\n",
       "      <td>Montserrat</td>\n",
       "      <td>4,359</td>\n",
       "      <td>−0.68%</td>\n",
       "      <td>−30</td>\n",
       "      <td>44</td>\n",
       "      <td>100</td>\n",
       "      <td>−9</td>\n",
       "      <td>1.45</td>\n",
       "      <td>41.6</td>\n",
       "      <td>11.5%</td>\n",
       "      <td>0.000053%</td>\n",
       "    </tr>\n",
       "    <tr>\n",
       "      <th>229</th>\n",
       "      <td>230</td>\n",
       "      <td>Falkland Islands</td>\n",
       "      <td>3,469</td>\n",
       "      <td>−0.03%</td>\n",
       "      <td>−1</td>\n",
       "      <td>0</td>\n",
       "      <td>12,170</td>\n",
       "      <td>−17</td>\n",
       "      <td>1.70</td>\n",
       "      <td>42.8</td>\n",
       "      <td>68%</td>\n",
       "      <td>0.000042%</td>\n",
       "    </tr>\n",
       "    <tr>\n",
       "      <th>230</th>\n",
       "      <td>231</td>\n",
       "      <td>Tokelau</td>\n",
       "      <td>2,608</td>\n",
       "      <td>4.07%</td>\n",
       "      <td>102</td>\n",
       "      <td>261</td>\n",
       "      <td>10</td>\n",
       "      <td>53</td>\n",
       "      <td>2.57</td>\n",
       "      <td>27.3</td>\n",
       "      <td>NaN</td>\n",
       "      <td>0.000032%</td>\n",
       "    </tr>\n",
       "    <tr>\n",
       "      <th>231</th>\n",
       "      <td>232</td>\n",
       "      <td>Niue</td>\n",
       "      <td>1,821</td>\n",
       "      <td>0.11%</td>\n",
       "      <td>2</td>\n",
       "      <td>7</td>\n",
       "      <td>260</td>\n",
       "      <td>3</td>\n",
       "      <td>2.46</td>\n",
       "      <td>35.7</td>\n",
       "      <td>44.5%</td>\n",
       "      <td>0.000022%</td>\n",
       "    </tr>\n",
       "    <tr>\n",
       "      <th>232</th>\n",
       "      <td>233</td>\n",
       "      <td>Holy See</td>\n",
       "      <td>501</td>\n",
       "      <td>1.01%</td>\n",
       "      <td>5</td>\n",
       "      <td>1,253</td>\n",
       "      <td>0</td>\n",
       "      <td>13</td>\n",
       "      <td>1.00</td>\n",
       "      <td>57.4</td>\n",
       "      <td>NaN</td>\n",
       "      <td>0.0000061%</td>\n",
       "    </tr>\n",
       "  </tbody>\n",
       "</table>\n",
       "<p>233 rows × 12 columns</p>\n",
       "</div>"
      ],
      "text/plain": [
       "       # Country (ordependency) Population(2025) YearlyChange   NetChange  \\\n",
       "0      1                  India    1,463,865,525        0.89%  12,929,734   \n",
       "1      2                  China    1,416,096,094       −0.23%  −3,225,184   \n",
       "2      3          United States      347,275,807        0.54%   1,849,236   \n",
       "3      4              Indonesia      285,721,236        0.79%   2,233,305   \n",
       "4      5               Pakistan      255,219,554        1.57%   3,950,390   \n",
       "..   ...                    ...              ...          ...         ...   \n",
       "228  229             Montserrat            4,359       −0.68%         −30   \n",
       "229  230       Falkland Islands            3,469       −0.03%          −1   \n",
       "230  231                Tokelau            2,608        4.07%         102   \n",
       "231  232                   Niue            1,821        0.11%           2   \n",
       "232  233               Holy See              501        1.01%           5   \n",
       "\n",
       "    Density(P/Km²) Land Area(Km²) Migrants(net)  Fert.Rate  MedianAge  \\\n",
       "0              492      2,973,190      −495,753       1.94       28.8   \n",
       "1              151      9,388,211      −268,126       1.02       40.1   \n",
       "2               38      9,147,420     1,230,663       1.62       38.5   \n",
       "3              158      1,811,570       −39,509       2.10       30.4   \n",
       "4              331        770,880    −1,235,336       3.50       20.6   \n",
       "..             ...            ...           ...        ...        ...   \n",
       "228             44            100            −9       1.45       41.6   \n",
       "229              0         12,170           −17       1.70       42.8   \n",
       "230            261             10            53       2.57       27.3   \n",
       "231              7            260             3       2.46       35.7   \n",
       "232          1,253              0            13       1.00       57.4   \n",
       "\n",
       "    UrbanPop %  WorldShare  \n",
       "0        37.1%      17.78%  \n",
       "1        67.5%      17.20%  \n",
       "2        82.8%       4.22%  \n",
       "3        59.6%       3.47%  \n",
       "4        34.4%       3.10%  \n",
       "..         ...         ...  \n",
       "228      11.5%   0.000053%  \n",
       "229        68%   0.000042%  \n",
       "230        NaN   0.000032%  \n",
       "231      44.5%   0.000022%  \n",
       "232        NaN  0.0000061%  \n",
       "\n",
       "[233 rows x 12 columns]"
      ]
     },
     "execution_count": 5,
     "metadata": {},
     "output_type": "execute_result"
    }
   ],
   "source": [
    "df"
   ]
  },
  {
   "cell_type": "code",
   "execution_count": 6,
   "metadata": {},
   "outputs": [
    {
     "data": {
      "text/plain": [
       "Index(['#', 'Country (ordependency)', 'Population(2025)', 'YearlyChange',\n",
       "       'NetChange', 'Density(P/Km²)', 'Land Area(Km²)', 'Migrants(net)',\n",
       "       'Fert.Rate', 'MedianAge', 'UrbanPop %', 'WorldShare'],\n",
       "      dtype='object')"
      ]
     },
     "execution_count": 6,
     "metadata": {},
     "output_type": "execute_result"
    }
   ],
   "source": [
    "df.columns"
   ]
  },
  {
   "cell_type": "code",
   "execution_count": 7,
   "metadata": {},
   "outputs": [
    {
     "name": "stdout",
     "output_type": "stream",
     "text": [
      "<class 'pandas.core.frame.DataFrame'>\n",
      "RangeIndex: 233 entries, 0 to 232\n",
      "Data columns (total 12 columns):\n",
      " #   Column                  Non-Null Count  Dtype  \n",
      "---  ------                  --------------  -----  \n",
      " 0   #                       233 non-null    int64  \n",
      " 1   Country (ordependency)  233 non-null    object \n",
      " 2   Population(2025)        233 non-null    object \n",
      " 3   YearlyChange            233 non-null    object \n",
      " 4   NetChange               233 non-null    object \n",
      " 5   Density(P/Km²)          233 non-null    object \n",
      " 6   Land Area(Km²)          233 non-null    object \n",
      " 7   Migrants(net)           233 non-null    object \n",
      " 8   Fert.Rate               233 non-null    float64\n",
      " 9   MedianAge               233 non-null    float64\n",
      " 10  UrbanPop %              210 non-null    object \n",
      " 11  WorldShare              233 non-null    object \n",
      "dtypes: float64(2), int64(1), object(9)\n",
      "memory usage: 22.0+ KB\n"
     ]
    }
   ],
   "source": [
    "df.info()"
   ]
  },
  {
   "cell_type": "code",
   "execution_count": 24,
   "metadata": {},
   "outputs": [
    {
     "name": "stdout",
     "output_type": "stream",
     "text": [
      "Column: # :: 1 2 3 4 5 6 7 8 9 10 11 12 13 14 15 16 17 18 19 20 21 22 23 24 25 26 27 28 29 30 31 32 33 34 35 36 37 38 39 40 41 42 43 44 45 46 47 48 49 50 51 52 53 54 55 56 57 58 59 60 61 62 63 64 65 66 67 68 69 70 71 72 73 74 75 76 77 78 79 80 81 82 83 84 85 86 87 88 89 90 91 92 93 94 95 96 97 98 99 100 101 102 103 104 105 106 107 108 109 110 111 112 113 114 115 116 117 118 119 120 121 122 123 124 125 126 127 128 129 130 131 132 133 134 135 136 137 138 139 140 141 142 143 144 145 146 147 148 149 150 151 152 153 154 155 156 157 158 159 160 161 162 163 164 165 166 167 168 169 170 171 172 173 174 175 176 177 178 179 180 181 182 183 184 185 186 187 188 189 190 191 192 193 194 195 196 197 198 199 200 201 202 203 204 205 206 207 208 209 210 211 212 213 214 215 216 217 218 219 220 221 222 223 224 225 226 227 228 229 230 231 232 233\n",
      "\n",
      "Column: Country (ordependency) :: India China United States Indonesia Pakistan Nigeria Brazil Bangladesh Russia Ethiopia Mexico Japan Egypt Philippines DR Congo Vietnam Iran Turkey Germany Thailand Tanzania United Kingdom France South Africa Italy Kenya Myanmar Colombia South Korea Sudan Uganda Spain Algeria Iraq Argentina Afghanistan Yemen Canada Angola Ukraine Morocco Poland Uzbekistan Malaysia Mozambique Ghana Peru Saudi Arabia Madagascar Côte d'Ivoire Cameroon Nepal Venezuela Niger Australia North Korea Syria Mali Burkina Faso Sri Lanka Taiwan Malawi Zambia Chad Kazakhstan Chile Somalia Senegal Romania Guatemala Netherlands Ecuador Cambodia Zimbabwe Guinea Benin Rwanda Burundi Bolivia Tunisia South Sudan Haiti Belgium Jordan Dominican Republic United Arab Emirates Honduras Cuba Tajikistan Papua New Guinea Sweden Czech Republic (Czechia) Portugal Azerbaijan Greece Togo Hungary Israel Austria Belarus Switzerland Sierra Leone Laos Turkmenistan Libya Hong Kong Kyrgyzstan Paraguay Nicaragua Bulgaria Serbia Congo El Salvador Denmark Singapore Lebanon Liberia Finland Norway State of Palestine Central African Republic Oman Slovakia Mauritania Ireland New Zealand Costa Rica Kuwait Panama Croatia Georgia Eritrea Mongolia Uruguay Puerto Rico Bosnia and Herzegovina Qatar Namibia Moldova Armenia Jamaica Lithuania Gambia Albania Gabon Botswana Lesotho Guinea-Bissau Slovenia Equatorial Guinea Latvia North Macedonia Bahrain Trinidad and Tobago Timor-Leste Cyprus Estonia Mauritius Eswatini Djibouti Fiji Comoros Réunion Solomon Islands Guyana Bhutan Macao Luxembourg Suriname Montenegro Western Sahara Malta Maldives Cabo Verde Brunei Belize Bahamas Iceland Guadeloupe Martinique Mayotte Vanuatu French Guiana New Caledonia Barbados French Polynesia Sao Tome & Principe Samoa Curaçao Saint Lucia Guam Kiribati Seychelles Grenada Micronesia Aruba Tonga St. Vincent & Grenadines Antigua and Barbuda U.S. Virgin Islands Isle of Man Andorra Cayman Islands Dominica Bermuda Faeroe Islands Greenland Saint Kitts & Nevis Turks and Caicos American Samoa Sint Maarten Northern Mariana Islands Liechtenstein Gibraltar British Virgin Islands Monaco Marshall Islands San Marino Caribbean Netherlands Palau Anguilla Cook Islands Nauru Saint Barthelemy Wallis & Futuna Tuvalu Saint Pierre & Miquelon Saint Helena Montserrat Falkland Islands Tokelau Niue Holy See\n",
      "\n",
      "Column: Population(2025) :: 1,463,865,525 1,416,096,094 347,275,807 285,721,236 255,219,554 237,527,782 212,812,405 175,686,899 143,997,393 135,472,051 131,946,900 123,103,479 118,365,995 116,786,962 112,832,473 101,598,527 92,417,681 87,685,426 84,075,075 71,619,863 70,545,865 69,551,332 66,650,804 64,747,319 59,146,260 57,532,493 54,850,648 53,425,635 51,667,029 51,662,147 51,384,894 47,889,958 47,435,312 47,020,774 45,851,378 43,844,111 41,773,878 40,126,723 39,040,039 38,980,376 38,430,770 38,140,910 37,053,428 35,977,838 35,631,653 35,064,272 34,576,665 34,566,328 32,740,678 32,711,547 29,879,337 29,618,118 28,516,896 27,917,831 26,974,026 26,571,036 25,620,427 25,198,821 24,074,580 23,229,470 23,112,793 22,216,120 21,913,874 21,003,705 20,843,754 19,859,921 19,654,739 18,931,966 18,908,650 18,687,881 18,346,819 18,289,896 17,847,982 16,950,795 15,099,727 14,814,460 14,569,341 14,390,003 12,581,843 12,348,573 12,188,788 11,906,095 11,758,603 11,520,684 11,520,487 11,346,000 11,005,850 10,937,203 10,786,734 10,762,817 10,656,633 10,609,239 10,411,834 10,397,713 9,938,844 9,721,608 9,632,287 9,517,181 9,113,574 8,997,603 8,967,407 8,819,794 7,873,046 7,618,847 7,458,555 7,396,076 7,295,034 7,013,078 7,007,502 6,714,560 6,689,039 6,484,437 6,365,503 6,002,507 5,870,750 5,849,421 5,731,206 5,623,329 5,623,071 5,589,623 5,513,282 5,494,691 5,474,881 5,315,065 5,308,039 5,251,899 5,152,950 5,026,078 4,571,189 3,848,160 3,806,671 3,607,003 3,517,100 3,384,688 3,235,289 3,140,095 3,115,889 3,092,816 2,996,106 2,952,365 2,837,077 2,830,144 2,822,093 2,771,508 2,593,130 2,562,122 2,363,325 2,249,515 2,117,072 1,938,431 1,853,559 1,813,791 1,643,332 1,511,155 1,418,517 1,370,754 1,344,232 1,268,280 1,256,174 1,184,076 933,154 882,847 882,405 838,645 835,986 796,682 722,007 680,453 639,850 632,729 600,904 545,405 529,676 527,326 466,330 422,924 403,033 398,266 373,791 340,439 337,011 335,169 313,666 295,333 282,623 282,465 240,254 219,306 185,487 180,149 168,999 136,488 132,779 117,303 113,683 108,147 103,742 99,924 94,209 84,138 84,118 82,904 75,844 65,871 64,555 56,002 55,745 46,922 46,855 46,029 43,923 43,541 40,128 40,126 39,732 38,341 36,282 33,572 31,338 17,663 14,728 13,263 12,025 11,414 11,194 9,492 5,574 5,197 4,359 3,469 2,608 1,821 501\n",
      "\n",
      "Column: YearlyChange :: 0.89% −0.23% 0.54% 0.79% 1.57% 2.08% 0.38% 1.22% −0.57% 2.58% 0.83% −0.52% 0.81% 3.25% 0.6% 0.93% 0.24% −0.56% −0.07% 2.9% 0.15% 1.16% −0.33% 1.95% 0.64% 1.02% −0.1% 2.4% 2.74% −0.04% 1.33% 2.13% 0.34% 2.81% 2.93% 0.97% 3.05% 2.96% 0.92% −1.03% 1.9% 1.18% 2.89% 1.85% 1.05% 1.78% 2.43% 2.59% −0.11% 0.39% 3.28% 0.98% 0.27% 3.84% 2.94% 2.23% −0.44% 3.47% 0.48% 3.4% 2.32% 1.53% 0.65% 0.85% 1.19% 2.34% 2.19% 2.44% 1.36% 0.58% 2.05% 1.13% 0.17% −0.28% 1.66% −0.39% 1.76% 0.47% −1.18% −0.13% 0.59% −1.08% 2.17% −0.45% 1.39% −0.08% −0.65% 0.51% 2.06% −0.25% 1.52% 1.21% 1.32% −0.64% −0.7% 2.39% 0.43% 0.42% 0.66% 0.75% 2.11% 0.11% 1.71% 3.43% 4.04% −0.58% 2.82% 1.01% 0.73% 0.45% 1.86% 1.23% −0.03% 2.02% 1.2% −0.06% −0.21% −0.76% 2.21% 2.07% −1.28% −0.72% −1.01% 2.25% −0.73% 1.63% 1.11% −0.98% −0.51% 2.26% 0.22% 1.28% −1.2% 1.07% 1.31% 1.87% 2.37% 1.1% −0.9% 0.36% 0.78% 1.4% 0.44% 1.24% −0.35% −0.8% 3.22% 1.67% 0.06% 0.23% 2% 0% 1.46% 1.81% 0.08% 0.46% 0.07% −0.42% −0.69% −0.05% −0.5% 1.09% −0.17% 0.69% −1.57% −1.66% 2.03% −0.75% −3.37% 2.16% −0.18% −3.39% −0.74% −1.6% −0.96% −0.68% 4.07%\n",
      "\n",
      "Column: NetChange :: 12,929,734 −3,225,184 1,849,236 2,233,305 3,950,390 4,848,304 813,832 2,124,535 −823,030 3,412,284 1,085,893 −649,562 1,827,737 943,292 3,556,208 610,841 849,943 211,621 −477,167 −48,148 1,985,708 413,140 102,274 740,132 −196,607 1,099,549 350,557 539,272 −50,561 1,213,184 1,369,802 −20,568 621,004 978,759 155,219 1,196,619 1,190,714 384,293 1,154,190 1,120,155 349,597 −398,291 691,569 420,165 999,887 636,858 358,817 603,571 775,722 777,317 755,593 −32,936 111,353 885,419 260,821 72,213 947,667 720,226 525,799 125,905 −101,169 560,834 598,918 704,582 251,183 95,150 645,588 429,982 −106,438 281,522 118,077 154,418 209,181 316,422 344,942 351,736 312,774 342,217 168,528 71,464 245,380 133,538 19,840 −32,192 92,930 318,871 180,147 −42,580 195,807 186,315 49,634 −126,620 −13,458 61,136 −108,973 206,372 −43,848 130,160 −7,239 −59,093 45,426 177,772 103,227 124,349 77,532 −18,833 109,025 83,925 91,362 −43,129 −47,177 151,476 27,310 25,095 38,363 43,459 118,389 6,019 46,411 94,180 182,592 213,153 −31,879 145,670 53,022 37,955 23,040 91,571 55,612 −27,165 −999 71,400 41,560 −1,900 −6,915 −24,158 67,466 62,685 −38,855 −21,475 −2,098 −28,966 62,105 −20,257 54,178 40,983 25,902 48,163 −1,625 45,915 −18,312 −9,218 36,283 3,373 17,879 12,472 −16,314 −2,889 13,352 15,354 4,370 16,219 3,814 19,447 4,899 5,158 1,745 7,417 5,419 −5,750 10,398 5,798 1,877 2,449 3,609 5,852 1,750 4,870 −1,315 −2,756 10,506 7,392 5,144 2,694 156 658 4,718 1,287 5 405 1,222 1,970 2,361 96 523 81 −433 −692 437 −767 −42 966 1,387 −334 −81 602 −95 79 320 −736 573 −737 258 797 261 −290 −1,266 −9 663 −32 130 −466 78 −83 −154 −54 −40 −30 −1 102 2\n",
      "\n",
      "Column: Density(P/Km²) :: 492 151 38 158 331 261 25 1,350 9 135 68 338 119 392 50 328 57 114 241 140 80 287 122 53 201 101 84 48 531 29 257 96 20 108 17 67 79 4 31 86 125 87 110 45 154 27 16 56 103 63 207 32 22 221 21 88 370 653 236 8 98 82 174 544 74 44 61 131 591 560 12 432 388 130 238 136 77 24 26 137 126 179 106 440 111 227 34 7,044 18 58 62 76 19 307 141 8,387 572 60 15 929 5 282 69 55 36 2 365 268 91 104 262 279 10 78 105 30 72 2,162 295 95 148 625 73 51 474 353 24,067 263 47 1,704 1,766 40 321 899 657 250 418 313 169 289 345 162 601 144 256 214 240 176 316 1,291 0 180 49 230 1,292 251 4,013 265 25,732 202 164 13 7 1,253\n",
      "\n",
      "Column: Land Area(Km²) :: 2,973,190 9,388,211 9,147,420 1,811,570 770,880 910,770 8,358,140 130,170 16,376,870 1,000,000 1,943,950 364,555 995,450 298,170 2,267,050 310,070 1,628,550 769,630 348,560 510,890 885,800 241,930 547,557 1,213,090 294,140 569,140 653,290 1,109,500 97,230 1,765,048 199,810 498,800 2,381,740 434,320 2,736,690 652,860 527,970 9,093,510 1,246,700 579,320 446,300 306,230 425,400 328,550 786,380 227,540 1,280,000 2,149,690 581,795 318,000 472,710 143,350 882,050 1,266,700 7,682,300 120,410 183,630 1,220,190 273,600 62,710 35,410 94,280 743,390 1,259,200 2,699,700 743,532 627,340 192,530 230,170 107,160 33,720 248,360 176,520 386,850 245,720 112,760 24,670 25,680 1,083,300 155,360 610,952 27,560 30,280 88,780 48,320 83,600 111,890 106,440 139,960 452,860 410,340 77,240 91,590 82,658 128,900 54,390 90,530 21,640 82,409 202,910 39,516 72,180 230,800 469,930 1,759,540 1,050 191,800 397,300 120,340 108,560 87,460 341,500 20,720 42,430 700 10,230 96,320 303,890 365,268 6,020 622,980 309,500 48,088 1,030,700 68,890 263,310 51,060 17,820 74,340 55,960 69,490 101,000 1,553,560 175,020 8,870 51,000 11,610 823,290 32,850 28,470 10,830 62,674 10,120 27,400 257,670 566,730 30,360 28,120 20,140 28,050 62,200 25,220 760 5,130 14,870 9,240 42,390 2,030 17,200 23,180 18,270 1,861 2,500 27,990 196,850 38,117 30 2,590 156,000 13,450 266,000 320 300 4,030 5,270 22,810 10,010 100,250 1,690 1,060 375 12,190 82,200 18,280 430 3,660 960 2,830 444 610 540 810 460 340 180 720 390 440 350 570 470 240 750 50 1,396 410,450 260 950 200 34 160 10 150 1 60 328 90 20 21 140 230 100 12,170 0\n",
      "\n",
      "Column: Migrants(net) :: −495,753 −268,126 1,230,663 −39,509 −1,235,336 −15,258 −217,283 −402,100 −251,822 24,054 −108,037 140,579 −57,305 −149,315 −27,309 −48,171 116,786 −258,205 −334,072 27,509 −12,730 389,911 91,737 146,370 75,448 −27,330 −39,661 129,139 65,731 291,469 −119,059 96,630 −27,531 −1,064 2,859 −74,404 −16,291 326,204 −3,524 1,702,358 −56,254 −330,820 −6,987 166,615 −65,573 −17,079 11,931 119,738 −2,227 11,305 −15,379 −364,699 −100,467 −7,704 137,109 −2,787 421,693 −48,019 −27,130 −30,724 −20,947 −5,628 6,562 −123,104 −8,834 51,712 12,077 −12,636 −29,041 −7,959 104,681 −17,219 −31,469 −54,555 −16,282 −7,847 6,282 −34,727 −3,179 −14,523 6,145 −32,052 31,989 −303,267 −35,306 158,634 −4,778 −22,244 −21,606 −284 47,079 −112,188 16,472 8,731 16,636 −15,010 −16,331 11,466 11,254 −3,020 37,253 −11,309 −10,645 13,268 −172 17,863 1,815 −12,423 −8,371 −2,961 −13,086 −2,999 −23,934 22,103 16,892 −10,230 −9,870 18,246 29,798 −23,156 −14,693 113,734 −31,377 −5,044 35,417 17,403 1,000 42,775 6,151 −3,481 1,283 −6,698 79 −1,338 5,495 −6,994 36,288 1,866 −29,766 −29,013 −11,053 −24,618 −2,984 −24,230 1,116 −5,665 −5,192 −1,373 2,711 3,812 −7,330 −5,645 18,128 691 −2,550 7,749 −13,350 −2,784 −5,775 −581 −3,288 −2,127 −2,585 1,631 −5,092 455 −328 5,237 −967 −9,279 5,030 5,161 −2,283 −1,284 0 360 935 2,709 −1,587 −2,491 44 −52 −909 440 −87 −1,199 −650 −2,815 470 −23 −493 −462 1,590 −185 −1,125 111 −2,150 −714 12 −357 166 843 888 −242 −2 386 −265 18 177 −1,051 530 −963 194 549 153 100 −1,698 122 600 −16 70 −460 −122 158 −83 −255 −8 1 −9 −17 53 3 13\n",
      "\n",
      "Column: Fert.Rate :: 1.94 1.02 1.62 2.1 3.5 4.3 1.6 2.11 1.47 3.81 1.87 1.23 2.71 1.88 5.9 1.67 1.46 1.2 4.47 1.54 1.64 2.19 1.21 3.12 2.08 0.75 4.19 4.06 2.67 3.17 1.5 4.66 4.41 1.33 4.95 1.0 2.18 1.31 3.45 1.53 4.62 3.3 2.29 3.85 4.17 4.18 2.06 5.79 1.77 2.66 5.42 4.0 0.86 3.53 3.97 5.94 2.95 1.13 5.91 3.71 1.71 2.26 1.44 1.79 2.51 3.62 4.04 4.42 3.59 4.67 2.5 1.8 2.59 1.39 2.57 2.45 1.45 2.99 3.03 1.52 1.34 4.07 2.75 3.61 2.36 2.63 2.25 0.73 2.4 1.74 4.05 1.75 0.96 2.21 3.79 1.3 1.42 3.19 5.81 2.48 1.57 4.56 1.65 2.09 2.58 0.94 1.7 1.72 1.22 3.8 3.54 2.64 3.68 1.58 1.35 1.78 2.56 1.37 1.38 2.68 3.76 2.13 3.46 2.37 0.69 1.4 2.15 1.11 1.55 2.01 1.36 2.05 1.97 4.5 3.29 1.95 1.48 3.75 1.07 3.09 3.07 2.07 1.1 1.51 1.41 2.2 1.91 1.43 2.28 1.06 2.82 1.16 1.86 2.0 3.25 0.83 3.14 1.28 2.46\n",
      "\n",
      "Column: MedianAge :: 28.8 40.1 38.5 30.4 20.6 18.1 34.8 26.0 40.3 19.1 29.6 49.8 24.5 26.1 15.8 33.4 34.0 33.5 45.5 40.6 17.5 42.3 28.7 48.2 20.0 30.1 32.5 45.6 18.5 16.9 45.9 28.6 20.8 32.9 17.3 18.4 16.6 41.8 29.8 42.5 27.0 31.0 16.5 21.3 30.2 19.2 18.3 18.0 25.3 29.4 15.6 38.3 36.5 23.3 15.7 17.7 33.3 44.8 17.9 29.7 36.9 19.6 43.2 23.4 41.5 29.3 26.2 19.9 16.4 25.2 18.7 24.1 41.9 24.7 28.3 31.6 24.2 42.2 22.2 22.8 43.8 46.9 33.6 46.8 43.9 29.2 43.6 41.3 42.9 19.7 24.9 26.9 27.7 47.4 25.4 44.4 18.6 27.9 36.2 18.8 39.8 20.1 14.5 17.4 39.0 37.7 35.2 30.3 45.3 37.3 36.4 45.8 45.7 38.6 36.6 32.8 21.5 21.8 19.4 44.6 20.9 41.0 21.7 42.8 37.8 22.5 28.1 38.1 20.7 30.5 39.6 39.5 40.0 32.6 41.1 32.7 29.0 35.3 47.2 49.7 17.1 20.3 25.0 34.5 39.4 36.1 19.5 19.8 38.7 34.6 31.5 22.9 34.3 34.4 36.3 46.1 46.0 37.1 35.1 39.2 38.0 44.5 38.8 53.6 20.4 48.6 20.2 38.2 50.9 41.6 27.3 35.7 57.4\n",
      "\n",
      "Column: UrbanPop % :: 37.1% 67.5% 82.8% 59.6% 34.4% 54.9% 91.4% 42.6% 75% 22.5% 87.9% 93.1% 40.9% 49.3% 45% 41.4% 73.3% 76.9% 76.5% 53.5% 40% 84.5% 82.5% 66.6% 72% 31.9% 34.1% 80.5% 82.4% 35.3% 30% 79.3% 74.4% 72.4% 96% 26.7% 33% 80.2% 68.8% 76.8% 67.3% 59.2% 48.1% 77.4% 41.6% 58.6% 80.6% 92.1% 40.3% 49% 59.4% 24.5% nan 18.2% 86.5% 63.3% 53.6% 44.4% 33.7% 18.1% 84% 19.8% 46.8% 22.4% 55.1% 84.8% 46.6% 52.3% 55.2% 56.6% 88.9% 66% 26.5% 37.9% 47.8% 18.3% 14.9% 70.6% 71.7% 27.7% 61.7% 98.8% 85.1% 86.4% 81.1% 58.3% 81.9% 12.6% 87.4% 66.5% 58.7% 89.5% 44.2% 84.4% 45.5% 38.3% 46.5% 77.5% 68% 58.1% 77.1% 73.6% 69.8% 79.9% 86% 55% 86.7% 85.9% 84.2% 44.5% 90.8% 54% 60.3% 62.1% 83.6% 85.2% 91.6% 70.7% 62% 74.8% 67.2% 56.3% 96.6% 54.4% 57.7% 63.8% 60.2% 68.2% 61.3% 70.3% 83.7% 75.6% 32.8% 46.2% 55.7% 63.6% 69.4% 49.1% 36% 61.1% 66.9% 41.5% 31.3% 71.3% 60.8% 33.6% 22.8% 26.6% 50.3% 97.1% 87.2% 62.4% 68.7% 97% 39.6% 78.6% 80.1% 48.6% 88.4% 25.4% 94.5% 75.7% 32.5% 65.9% 78.2% 16.3% 80.8% 19.9% 57.3% 43.8% 35.5% 23.5% 44.7% 26% 61.6% 28.5% 56.7% 82.3% 89.1% 93% 39.5% 90.7% 39.4% 79.4% 99.8% 14.7% 88.5% 43.4% 65.6% 94.2% 33.4% 11.5%\n",
      "\n",
      "Column: WorldShare :: 17.78% 17.20% 4.22% 3.47% 3.10% 2.89% 2.59% 2.13% 1.75% 1.65% 1.60% 1.50% 1.44% 1.42% 1.37% 1.23% 1.12% 1.07% 1.02% 0.87% 0.86% 0.84% 0.81% 0.79% 0.72% 0.70% 0.67% 0.65% 0.63% 0.62% 0.58% 0.57% 0.56% 0.53% 0.51% 0.49% 0.47% 0.46% 0.45% 0.44% 0.43% 0.42% 0.40% 0.36% 0.35% 0.34% 0.33% 0.32% 0.31% 0.29% 0.28% 0.27% 0.26% 0.25% 0.24% 0.23% 0.22% 0.21% 0.18% 0.17% 0.15% 0.14% 0.13% 0.12% 0.11% 0.096% 0.093% 0.091% 0.090% 0.089% 0.085% 0.082% 0.081% 0.079% 0.077% 0.073% 0.071% 0.070% 0.068% 0.067% 0.065% 0.064% 0.063% 0.061% 0.056% 0.047% 0.046% 0.044% 0.043% 0.041% 0.039% 0.038% 0.036% 0.034% 0.032% 0.031% 0.029% 0.027% 0.026% 0.024% 0.023% 0.022% 0.020% 0.018% 0.017% 0.016% 0.015% 0.014% 0.011% 0.010% 0.0097% 0.0088% 0.0083% 0.0078% 0.0077% 0.0073% 0.0066% 0.0064% 0.0057% 0.0051% 0.0049% 0.0048% 0.0045% 0.0041% 0.0038% 0.0036% 0.0034% 0.0029% 0.0027% 0.0023% 0.0022% 0.0021% 0.0017% 0.0016% 0.0014% 0.0013% 0.0012% 0.0011% 0.0010% 0.00092% 0.00080% 0.00078% 0.00068% 0.00057% 0.00056% 0.00053% 0.00049% 0.00048% 0.00047% 0.00044% 0.00041% 0.00038% 0.00021% 0.00018% 0.00016% 0.00015% 0.00014% 0.00012% 0.000068% 0.000063% 0.000053% 0.000042% 0.000032% 0.000022% 0.0000061%\n",
      "\n"
     ]
    }
   ],
   "source": [
    "\n",
    "for i in df.columns:\n",
    "    print(f\"Column: {i} ::\",end=\" \")\n",
    "    print(\" \".join(str(x) for x in df[i].unique()))\n",
    "    print()"
   ]
  },
  {
   "cell_type": "markdown",
   "metadata": {},
   "source": [
    "### Transform DataFrame"
   ]
  },
  {
   "cell_type": "code",
   "execution_count": 26,
   "metadata": {},
   "outputs": [],
   "source": [
    "df.rename(columns={'#':'Index'},inplace=True)"
   ]
  },
  {
   "cell_type": "code",
   "execution_count": 40,
   "metadata": {},
   "outputs": [],
   "source": [
    "df.rename(columns={'UrbanPop %':'UrbanPop'},inplace=True)"
   ]
  },
  {
   "cell_type": "code",
   "execution_count": 42,
   "metadata": {},
   "outputs": [],
   "source": [
    "df.rename(columns={'Density(P/Km²)':'Density'},inplace=True)"
   ]
  },
  {
   "cell_type": "code",
   "execution_count": 43,
   "metadata": {},
   "outputs": [],
   "source": [
    "df.rename(columns={'Land Area(Km²)':'Land Area'},inplace=True)"
   ]
  },
  {
   "cell_type": "code",
   "execution_count": 44,
   "metadata": {},
   "outputs": [],
   "source": [
    "df.rename(columns={'Migrants(net)':'Migrants'},inplace=True)"
   ]
  },
  {
   "cell_type": "code",
   "execution_count": 45,
   "metadata": {},
   "outputs": [],
   "source": [
    "df.rename(columns={'Country (ordependency)':'Country'},inplace=True)"
   ]
  },
  {
   "cell_type": "code",
   "execution_count": 46,
   "metadata": {},
   "outputs": [],
   "source": [
    "df.rename(columns={'Population(2025)':'Population'},inplace=True)"
   ]
  },
  {
   "cell_type": "code",
   "execution_count": 63,
   "metadata": {},
   "outputs": [],
   "source": [
    "df.rename(columns={'Fert.Rate':'Fert_Rate'},inplace=True)"
   ]
  },
  {
   "cell_type": "code",
   "execution_count": 68,
   "metadata": {},
   "outputs": [],
   "source": [
    "df.rename(columns={'Land Area':'Land_Area'},inplace=True)"
   ]
  },
  {
   "cell_type": "code",
   "execution_count": 69,
   "metadata": {},
   "outputs": [
    {
     "name": "stdout",
     "output_type": "stream",
     "text": [
      "<class 'pandas.core.frame.DataFrame'>\n",
      "RangeIndex: 233 entries, 0 to 232\n",
      "Data columns (total 12 columns):\n",
      " #   Column        Non-Null Count  Dtype  \n",
      "---  ------        --------------  -----  \n",
      " 0   Index         233 non-null    int64  \n",
      " 1   Country       233 non-null    object \n",
      " 2   Population    233 non-null    object \n",
      " 3   YearlyChange  233 non-null    object \n",
      " 4   NetChange     233 non-null    object \n",
      " 5   Density       233 non-null    object \n",
      " 6   Land_Area     233 non-null    object \n",
      " 7   Migrants      233 non-null    object \n",
      " 8   Fert_Rate     233 non-null    float64\n",
      " 9   MedianAge     233 non-null    float64\n",
      " 10  UrbanPop      210 non-null    float64\n",
      " 11  WorldShare    233 non-null    float64\n",
      "dtypes: float64(4), int64(1), object(7)\n",
      "memory usage: 22.0+ KB\n"
     ]
    }
   ],
   "source": [
    "df.info()"
   ]
  },
  {
   "cell_type": "code",
   "execution_count": 94,
   "metadata": {},
   "outputs": [],
   "source": [
    "df['YearlyChange']=df['YearlyChange'].apply(lambda x:x.replace('%','') if isinstance(x,str) and '%' in x else  x)\n",
    "df['YearlyChange']=df['YearlyChange'].apply(lambda x:x.replace('−','-') if isinstance(x,str) and '−' in x else  x)\n"
   ]
  },
  {
   "cell_type": "code",
   "execution_count": 36,
   "metadata": {},
   "outputs": [],
   "source": [
    "df['WorldShare']=df['WorldShare'].apply(lambda x:x.replace('%','') if isinstance(x,str) and '%' in x else  x)"
   ]
  },
  {
   "cell_type": "code",
   "execution_count": null,
   "metadata": {},
   "outputs": [],
   "source": [
    "df['UrbanPop']=df['UrbanPop'].apply(lambda x:x.replace('%','') if isinstance(x,str) and '%' in x else  x)"
   ]
  },
  {
   "cell_type": "code",
   "execution_count": null,
   "metadata": {},
   "outputs": [],
   "source": [
    "df['UrbanPop']=df['UrbanPop'].apply(lambda x:x.replace('%','') if isinstance(x,str) and '%' in x else  x)"
   ]
  },
  {
   "cell_type": "code",
   "execution_count": 89,
   "metadata": {},
   "outputs": [],
   "source": [
    "df['Land_Area']=df['Land_Area'].apply(lambda x:x.replace(',','') if isinstance(x,str) and ',' in x else  x)\n",
    "df['Land_Area']=df['Land_Area'].apply(lambda x:x.replace('−','-') if isinstance(x,str) and '−' in x else  x)"
   ]
  },
  {
   "cell_type": "code",
   "execution_count": 90,
   "metadata": {},
   "outputs": [],
   "source": [
    "df['NetChange']=df['NetChange'].apply(lambda x:x.replace(',','') if isinstance(x,str) and ',' in x else  x)\n",
    "df['NetChange']=df['NetChange'].apply(lambda x:x.replace('−','-') if isinstance(x,str) and '−' in x else  x)"
   ]
  },
  {
   "cell_type": "code",
   "execution_count": 91,
   "metadata": {},
   "outputs": [],
   "source": [
    "df['Population']=df['Population'].apply(lambda x:x.replace(',','') if isinstance(x,str) and ',' in x else  x)\n",
    "df['Population']=df['Population'].apply(lambda x:x.replace('−','-') if isinstance(x,str) and '−' in x else  x)"
   ]
  },
  {
   "cell_type": "code",
   "execution_count": 92,
   "metadata": {},
   "outputs": [],
   "source": [
    "df['Migrants']=df['Migrants'].apply(lambda x:x.replace('−','-') if isinstance(x,str) and '−' in x else  x)\n",
    "df['Migrants']=df['Migrants'].apply(lambda x:x.replace(',','') if isinstance(x,str) and ',' in x else  x)"
   ]
  },
  {
   "cell_type": "code",
   "execution_count": 101,
   "metadata": {},
   "outputs": [],
   "source": [
    "df['Density']=df['Density'].apply(lambda x:x.replace(',','') if isinstance(x,str) and ',' in x else  x)"
   ]
  },
  {
   "cell_type": "code",
   "execution_count": 95,
   "metadata": {},
   "outputs": [
    {
     "name": "stdout",
     "output_type": "stream",
     "text": [
      "Column: Index :: 1 2 3 4 5 6 7 8 9 10 11 12 13 14 15 16 17 18 19 20 21 22 23 24 25 26 27 28 29 30 31 32 33 34 35 36 37 38 39 40 41 42 43 44 45 46 47 48 49 50 51 52 53 54 55 56 57 58 59 60 61 62 63 64 65 66 67 68 69 70 71 72 73 74 75 76 77 78 79 80 81 82 83 84 85 86 87 88 89 90 91 92 93 94 95 96 97 98 99 100 101 102 103 104 105 106 107 108 109 110 111 112 113 114 115 116 117 118 119 120 121 122 123 124 125 126 127 128 129 130 131 132 133 134 135 136 137 138 139 140 141 142 143 144 145 146 147 148 149 150 151 152 153 154 155 156 157 158 159 160 161 162 163 164 165 166 167 168 169 170 171 172 173 174 175 176 177 178 179 180 181 182 183 184 185 186 187 188 189 190 191 192 193 194 195 196 197 198 199 200 201 202 203 204 205 206 207 208 209 210 211 212 213 214 215 216 217 218 219 220 221 222 223 224 225 226 227 228 229 230 231 232 233\n",
      "\n",
      "Column: Country :: India China United States Indonesia Pakistan Nigeria Brazil Bangladesh Russia Ethiopia Mexico Japan Egypt Philippines DR Congo Vietnam Iran Turkey Germany Thailand Tanzania United Kingdom France South Africa Italy Kenya Myanmar Colombia South Korea Sudan Uganda Spain Algeria Iraq Argentina Afghanistan Yemen Canada Angola Ukraine Morocco Poland Uzbekistan Malaysia Mozambique Ghana Peru Saudi Arabia Madagascar Côte d'Ivoire Cameroon Nepal Venezuela Niger Australia North Korea Syria Mali Burkina Faso Sri Lanka Taiwan Malawi Zambia Chad Kazakhstan Chile Somalia Senegal Romania Guatemala Netherlands Ecuador Cambodia Zimbabwe Guinea Benin Rwanda Burundi Bolivia Tunisia South Sudan Haiti Belgium Jordan Dominican Republic United Arab Emirates Honduras Cuba Tajikistan Papua New Guinea Sweden Czech Republic (Czechia) Portugal Azerbaijan Greece Togo Hungary Israel Austria Belarus Switzerland Sierra Leone Laos Turkmenistan Libya Hong Kong Kyrgyzstan Paraguay Nicaragua Bulgaria Serbia Congo El Salvador Denmark Singapore Lebanon Liberia Finland Norway State of Palestine Central African Republic Oman Slovakia Mauritania Ireland New Zealand Costa Rica Kuwait Panama Croatia Georgia Eritrea Mongolia Uruguay Puerto Rico Bosnia and Herzegovina Qatar Namibia Moldova Armenia Jamaica Lithuania Gambia Albania Gabon Botswana Lesotho Guinea-Bissau Slovenia Equatorial Guinea Latvia North Macedonia Bahrain Trinidad and Tobago Timor-Leste Cyprus Estonia Mauritius Eswatini Djibouti Fiji Comoros Réunion Solomon Islands Guyana Bhutan Macao Luxembourg Suriname Montenegro Western Sahara Malta Maldives Cabo Verde Brunei Belize Bahamas Iceland Guadeloupe Martinique Mayotte Vanuatu French Guiana New Caledonia Barbados French Polynesia Sao Tome & Principe Samoa Curaçao Saint Lucia Guam Kiribati Seychelles Grenada Micronesia Aruba Tonga St. Vincent & Grenadines Antigua and Barbuda U.S. Virgin Islands Isle of Man Andorra Cayman Islands Dominica Bermuda Faeroe Islands Greenland Saint Kitts & Nevis Turks and Caicos American Samoa Sint Maarten Northern Mariana Islands Liechtenstein Gibraltar British Virgin Islands Monaco Marshall Islands San Marino Caribbean Netherlands Palau Anguilla Cook Islands Nauru Saint Barthelemy Wallis & Futuna Tuvalu Saint Pierre & Miquelon Saint Helena Montserrat Falkland Islands Tokelau Niue Holy See\n",
      "\n",
      "Column: Population :: 1463865525 1416096094 347275807 285721236 255219554 237527782 212812405 175686899 143997393 135472051 131946900 123103479 118365995 116786962 112832473 101598527 92417681 87685426 84075075 71619863 70545865 69551332 66650804 64747319 59146260 57532493 54850648 53425635 51667029 51662147 51384894 47889958 47435312 47020774 45851378 43844111 41773878 40126723 39040039 38980376 38430770 38140910 37053428 35977838 35631653 35064272 34576665 34566328 32740678 32711547 29879337 29618118 28516896 27917831 26974026 26571036 25620427 25198821 24074580 23229470 23112793 22216120 21913874 21003705 20843754 19859921 19654739 18931966 18908650 18687881 18346819 18289896 17847982 16950795 15099727 14814460 14569341 14390003 12581843 12348573 12188788 11906095 11758603 11520684 11520487 11346000 11005850 10937203 10786734 10762817 10656633 10609239 10411834 10397713 9938844 9721608 9632287 9517181 9113574 8997603 8967407 8819794 7873046 7618847 7458555 7396076 7295034 7013078 7007502 6714560 6689039 6484437 6365503 6002507 5870750 5849421 5731206 5623329 5623071 5589623 5513282 5494691 5474881 5315065 5308039 5251899 5152950 5026078 4571189 3848160 3806671 3607003 3517100 3384688 3235289 3140095 3115889 3092816 2996106 2952365 2837077 2830144 2822093 2771508 2593130 2562122 2363325 2249515 2117072 1938431 1853559 1813791 1643332 1511155 1418517 1370754 1344232 1268280 1256174 1184076 933154 882847 882405 838645 835986 796682 722007 680453 639850 632729 600904 545405 529676 527326 466330 422924 403033 398266 373791 340439 337011 335169 313666 295333 282623 282465 240254 219306 185487 180149 168999 136488 132779 117303 113683 108147 103742 99924 94209 84138 84118 82904 75844 65871 64555 56002 55745 46922 46855 46029 43923 43541 40128 40126 39732 38341 36282 33572 31338 17663 14728 13263 12025 11414 11194 9492 5574 5197 4359 3469 2608 1821 501\n",
      "\n",
      "Column: YearlyChange :: 0.89 -0.23 0.54 0.79 1.57 2.08 0.38 1.22 -0.57 2.58 0.83 -0.52 0.81 3.25 0.6 0.93 0.24 -0.56 -0.07 2.9 0.15 1.16 -0.33 1.95 0.64 1.02 -0.1 2.4 2.74 -0.04 1.33 2.13 0.34 2.81 2.93 0.97 3.05 2.96 0.92 -1.03 1.9 1.18 2.89 1.85 1.05 1.78 2.43 2.59 -0.11 0.39 3.28 0.98 0.27 3.84 2.94 2.23 -0.44 3.47 0.48 3.4 2.32 1.53 0.65 0.85 1.19 2.34 2.19 2.44 1.36 0.58 2.05 1.13 0.17 -0.28 1.66 -0.39 1.76 0.47 -1.18 -0.13 0.59 -1.08 2.17 -0.45 1.39 -0.08 -0.65 0.51 2.06 -0.25 1.52 1.21 1.32 -0.64 -0.7 2.39 0.43 0.42 0.66 0.75 2.11 0.11 1.71 3.43 4.04 -0.58 2.82 1.01 0.73 0.45 1.86 1.23 -0.03 2.02 1.2 -0.06 -0.21 -0.76 2.21 2.07 -1.28 -0.72 -1.01 2.25 -0.73 1.63 1.11 -0.98 -0.51 2.26 0.22 1.28 -1.2 1.07 1.31 1.87 2.37 1.1 -0.9 0.36 0.78 1.4 0.44 1.24 -0.35 -0.8 3.22 1.67 0.06 0.23 2 0 1.46 1.81 0.08 0.46 0.07 -0.42 -0.69 -0.05 -0.5 1.09 -0.17 0.69 -1.57 -1.66 2.03 -0.75 -3.37 2.16 -0.18 -3.39 -0.74 -1.6 -0.96 -0.68 4.07\n",
      "\n",
      "Column: NetChange :: 12929734 -3225184 1849236 2233305 3950390 4848304 813832 2124535 -823030 3412284 1085893 -649562 1827737 943292 3556208 610841 849943 211621 -477167 -48148 1985708 413140 102274 740132 -196607 1099549 350557 539272 -50561 1213184 1369802 -20568 621004 978759 155219 1196619 1190714 384293 1154190 1120155 349597 -398291 691569 420165 999887 636858 358817 603571 775722 777317 755593 -32936 111353 885419 260821 72213 947667 720226 525799 125905 -101169 560834 598918 704582 251183 95150 645588 429982 -106438 281522 118077 154418 209181 316422 344942 351736 312774 342217 168528 71464 245380 133538 19840 -32192 92930 318871 180147 -42580 195807 186315 49634 -126620 -13458 61136 -108973 206372 -43848 130160 -7239 -59093 45426 177772 103227 124349 77532 -18833 109025 83925 91362 -43129 -47177 151476 27310 25095 38363 43459 118389 6019 46411 94180 182592 213153 -31879 145670 53022 37955 23040 91571 55612 -27165 -999 71400 41560 -1900 -6915 -24158 67466 62685 -38855 -21475 -2098 -28966 62105 -20257 54178 40983 25902 48163 -1625 45915 -18312 -9218 36283 3373 17879 12472 -16314 -2889 13352 15354 4370 16219 3814 19447 4899 5158 1745 7417 5419 -5750 10398 5798 1877 2449 3609 5852 1750 4870 -1315 -2756 10506 7392 5144 2694 156 658 4718 1287 5 405 1222 1970 2361 96 523 81 -433 -692 437 -767 -42 966 1387 -334 -81 602 -95 79 320 -736 573 -737 258 797 261 -290 -1266 -9 663 -32 130 -466 78 -83 -154 -54 -40 -30 -1 102 2\n",
      "\n",
      "Column: Density :: 492 151 38 158 331 261 25 1,350 9 135 68 338 119 392 50 328 57 114 241 140 80 287 122 53 201 101 84 48 531 29 257 96 20 108 17 67 79 4 31 86 125 87 110 45 154 27 16 56 103 63 207 32 22 221 21 88 370 653 236 8 98 82 174 544 74 44 61 131 591 560 12 432 388 130 238 136 77 24 26 137 126 179 106 440 111 227 34 7,044 18 58 62 76 19 307 141 8,387 572 60 15 929 5 282 69 55 36 2 365 268 91 104 262 279 10 78 105 30 72 2,162 295 95 148 625 73 51 474 353 24,067 263 47 1,704 1,766 40 321 899 657 250 418 313 169 289 345 162 601 144 256 214 240 176 316 1,291 0 180 49 230 1,292 251 4,013 265 25,732 202 164 13 7 1,253\n",
      "\n",
      "Column: Land_Area :: 2973190 9388211 9147420 1811570 770880 910770 8358140 130170 16376870 1000000 1943950 364555 995450 298170 2267050 310070 1628550 769630 348560 510890 885800 241930 547557 1213090 294140 569140 653290 1109500 97230 1765048 199810 498800 2381740 434320 2736690 652860 527970 9093510 1246700 579320 446300 306230 425400 328550 786380 227540 1280000 2149690 581795 318000 472710 143350 882050 1266700 7682300 120410 183630 1220190 273600 62710 35410 94280 743390 1259200 2699700 743532 627340 192530 230170 107160 33720 248360 176520 386850 245720 112760 24670 25680 1083300 155360 610952 27560 30280 88780 48320 83600 111890 106440 139960 452860 410340 77240 91590 82658 128900 54390 90530 21640 82409 202910 39516 72180 230800 469930 1759540 1050 191800 397300 120340 108560 87460 341500 20720 42430 700 10230 96320 303890 365268 6020 622980 309500 48088 1030700 68890 263310 51060 17820 74340 55960 69490 101000 1553560 175020 8870 51000 11610 823290 32850 28470 10830 62674 10120 27400 257670 566730 30360 28120 20140 28050 62200 25220 760 5130 14870 9240 42390 2030 17200 23180 18270 1861 2500 27990 196850 38117 30 2590 156000 13450 266000 320 300 4030 5270 22810 10010 100250 1690 1060 375 12190 82200 18280 430 3660 960 2830 444 610 540 810 460 340 180 720 390 440 350 570 470 240 750 50 1396 410450 260 950 200 34 160 10 150 1 60 328 90 20 21 140 230 100 12170 0\n",
      "\n",
      "Column: Migrants :: -495753 -268126 1230663 -39509 -1235336 -15258 -217283 -402100 -251822 24054 -108037 140579 -57305 -149315 -27309 -48171 116786 -258205 -334072 27509 -12730 389911 91737 146370 75448 -27330 -39661 129139 65731 291469 -119059 96630 -27531 -1064 2859 -74404 -16291 326204 -3524 1702358 -56254 -330820 -6987 166615 -65573 -17079 11931 119738 -2227 11305 -15379 -364699 -100467 -7704 137109 -2787 421693 -48019 -27130 -30724 -20947 -5628 6562 -123104 -8834 51712 12077 -12636 -29041 -7959 104681 -17219 -31469 -54555 -16282 -7847 6282 -34727 -3179 -14523 6145 -32052 31989 -303267 -35306 158634 -4778 -22244 -21606 -284 47079 -112188 16472 8731 16636 -15010 -16331 11466 11254 -3020 37253 -11309 -10645 13268 -172 17863 1815 -12423 -8371 -2961 -13086 -2999 -23934 22103 16892 -10230 -9870 18246 29798 -23156 -14693 113734 -31377 -5044 35417 17403 1000 42775 6151 -3481 1283 -6698 79 -1338 5495 -6994 36288 1866 -29766 -29013 -11053 -24618 -2984 -24230 1116 -5665 -5192 -1373 2711 3812 -7330 -5645 18128 691 -2550 7749 -13350 -2784 -5775 -581 -3288 -2127 -2585 1631 -5092 455 -328 5237 -967 -9279 5030 5161 -2283 -1284 0 360 935 2709 -1587 -2491 44 -52 -909 440 -87 -1199 -650 -2815 470 -23 -493 -462 1590 -185 -1125 111 -2150 -714 12 -357 166 843 888 -242 -2 386 -265 18 177 -1051 530 -963 194 549 153 100 -1698 122 600 -16 70 -460 -122 158 -83 -255 -8 1 -9 -17 53 3 13\n",
      "\n",
      "Column: Fert_Rate :: 1.94 1.02 1.62 2.1 3.5 4.3 1.6 2.11 1.47 3.81 1.87 1.23 2.71 1.88 5.9 1.67 1.46 1.2 4.47 1.54 1.64 2.19 1.21 3.12 2.08 0.75 4.19 4.06 2.67 3.17 1.5 4.66 4.41 1.33 4.95 1.0 2.18 1.31 3.45 1.53 4.62 3.3 2.29 3.85 4.17 4.18 2.06 5.79 1.77 2.66 5.42 4.0 0.86 3.53 3.97 5.94 2.95 1.13 5.91 3.71 1.71 2.26 1.44 1.79 2.51 3.62 4.04 4.42 3.59 4.67 2.5 1.8 2.59 1.39 2.57 2.45 1.45 2.99 3.03 1.52 1.34 4.07 2.75 3.61 2.36 2.63 2.25 0.73 2.4 1.74 4.05 1.75 0.96 2.21 3.79 1.3 1.42 3.19 5.81 2.48 1.57 4.56 1.65 2.09 2.58 0.94 1.7 1.72 1.22 3.8 3.54 2.64 3.68 1.58 1.35 1.78 2.56 1.37 1.38 2.68 3.76 2.13 3.46 2.37 0.69 1.4 2.15 1.11 1.55 2.01 1.36 2.05 1.97 4.5 3.29 1.95 1.48 3.75 1.07 3.09 3.07 2.07 1.1 1.51 1.41 2.2 1.91 1.43 2.28 1.06 2.82 1.16 1.86 2.0 3.25 0.83 3.14 1.28 2.46\n",
      "\n",
      "Column: MedianAge :: 28.8 40.1 38.5 30.4 20.6 18.1 34.8 26.0 40.3 19.1 29.6 49.8 24.5 26.1 15.8 33.4 34.0 33.5 45.5 40.6 17.5 42.3 28.7 48.2 20.0 30.1 32.5 45.6 18.5 16.9 45.9 28.6 20.8 32.9 17.3 18.4 16.6 41.8 29.8 42.5 27.0 31.0 16.5 21.3 30.2 19.2 18.3 18.0 25.3 29.4 15.6 38.3 36.5 23.3 15.7 17.7 33.3 44.8 17.9 29.7 36.9 19.6 43.2 23.4 41.5 29.3 26.2 19.9 16.4 25.2 18.7 24.1 41.9 24.7 28.3 31.6 24.2 42.2 22.2 22.8 43.8 46.9 33.6 46.8 43.9 29.2 43.6 41.3 42.9 19.7 24.9 26.9 27.7 47.4 25.4 44.4 18.6 27.9 36.2 18.8 39.8 20.1 14.5 17.4 39.0 37.7 35.2 30.3 45.3 37.3 36.4 45.8 45.7 38.6 36.6 32.8 21.5 21.8 19.4 44.6 20.9 41.0 21.7 42.8 37.8 22.5 28.1 38.1 20.7 30.5 39.6 39.5 40.0 32.6 41.1 32.7 29.0 35.3 47.2 49.7 17.1 20.3 25.0 34.5 39.4 36.1 19.5 19.8 38.7 34.6 31.5 22.9 34.3 34.4 36.3 46.1 46.0 37.1 35.1 39.2 38.0 44.5 38.8 53.6 20.4 48.6 20.2 38.2 50.9 41.6 27.3 35.7 57.4\n",
      "\n",
      "Column: UrbanPop :: 37.1 67.5 82.8 59.6 34.4 54.9 91.4 42.6 75.0 22.5 87.9 93.1 40.9 49.3 45.0 41.4 73.3 76.9 76.5 53.5 40.0 84.5 82.5 66.6 72.0 31.9 34.1 80.5 82.4 35.3 30.0 79.3 74.4 72.4 96.0 26.7 33.0 80.2 68.8 76.8 67.3 59.2 48.1 77.4 41.6 58.6 80.6 92.1 40.3 49.0 59.4 24.5 nan 18.2 86.5 63.3 53.6 44.4 33.7 18.1 84.0 19.8 46.8 22.4 55.1 84.8 46.6 52.3 55.2 56.6 88.9 66.0 26.5 37.9 47.8 18.3 14.9 70.6 71.7 27.7 61.7 98.8 85.1 86.4 81.1 58.3 81.9 12.6 87.4 66.5 58.7 89.5 44.2 84.4 45.5 38.3 46.5 77.5 68.0 58.1 77.1 73.6 69.8 79.9 86.0 55.0 86.7 85.9 84.2 44.5 90.8 54.0 60.3 62.1 83.6 85.2 91.6 70.7 62.0 74.8 67.2 56.3 96.6 54.4 57.7 63.8 60.2 68.2 61.3 70.3 83.7 75.6 32.8 46.2 55.7 63.6 69.4 49.1 36.0 61.1 66.9 41.5 31.3 71.3 60.8 33.6 22.8 26.6 50.3 97.1 87.2 62.4 68.7 97.0 39.6 78.6 80.1 48.6 88.4 25.4 94.5 75.7 32.5 65.9 78.2 16.3 80.8 19.9 57.3 43.8 35.5 23.5 44.7 26.0 61.6 28.5 56.7 82.3 89.1 93.0 39.5 90.7 39.4 79.4 99.8 14.7 88.5 43.4 65.6 94.2 33.4 11.5\n",
      "\n",
      "Column: WorldShare :: 17.78 17.2 4.22 3.47 3.1 2.89 2.59 2.13 1.75 1.65 1.6 1.5 1.44 1.42 1.37 1.23 1.12 1.07 1.02 0.87 0.86 0.84 0.81 0.79 0.72 0.7 0.67 0.65 0.63 0.62 0.58 0.57 0.56 0.53 0.51 0.49 0.47 0.46 0.45 0.44 0.43 0.42 0.4 0.36 0.35 0.34 0.33 0.32 0.31 0.29 0.28 0.27 0.26 0.25 0.24 0.23 0.22 0.21 0.18 0.17 0.15 0.14 0.13 0.12 0.11 0.096 0.093 0.091 0.09 0.089 0.085 0.082 0.081 0.079 0.077 0.073 0.071 0.07 0.068 0.067 0.065 0.064 0.063 0.061 0.056 0.047 0.046 0.044 0.043 0.041 0.039 0.038 0.036 0.034 0.032 0.031 0.029 0.027 0.026 0.024 0.023 0.022 0.02 0.018 0.017 0.016 0.015 0.014 0.011 0.01 0.0097 0.0088 0.0083 0.0078 0.0077 0.0073 0.0066 0.0064 0.0057 0.0051 0.0049 0.0048 0.0045 0.0041 0.0038 0.0036 0.0034 0.0029 0.0027 0.0023 0.0022 0.0021 0.0017 0.0016 0.0014 0.0013 0.0012 0.0011 0.001 0.00092 0.0008 0.00078 0.00068 0.00057 0.00056 0.00053 0.00049 0.00048 0.00047 0.00044 0.00041 0.00038 0.00021 0.00018 0.00016 0.00015 0.00014 0.00012 6.8e-05 6.3e-05 5.3e-05 4.2e-05 3.2e-05 2.2e-05 6.1e-06\n",
      "\n"
     ]
    }
   ],
   "source": [
    "for i in df.columns:\n",
    "    print(f\"Column: {i} ::\",end=\" \")\n",
    "    print(\" \".join(str(x) for x in df[i].unique()))\n",
    "    print()"
   ]
  },
  {
   "cell_type": "code",
   "execution_count": 116,
   "metadata": {},
   "outputs": [
    {
     "name": "stdout",
     "output_type": "stream",
     "text": [
      "<class 'pandas.core.frame.DataFrame'>\n",
      "RangeIndex: 233 entries, 0 to 232\n",
      "Data columns (total 12 columns):\n",
      " #   Column        Non-Null Count  Dtype  \n",
      "---  ------        --------------  -----  \n",
      " 0   Index         233 non-null    int64  \n",
      " 1   Country       233 non-null    object \n",
      " 2   Population    233 non-null    int64  \n",
      " 3   YearlyChange  233 non-null    float64\n",
      " 4   NetChange     233 non-null    int64  \n",
      " 5   Density       233 non-null    int64  \n",
      " 6   Land_Area     233 non-null    int64  \n",
      " 7   Migrants      233 non-null    int64  \n",
      " 8   Fert_Rate     233 non-null    float64\n",
      " 9   MedianAge     233 non-null    float64\n",
      " 10  UrbanPop      210 non-null    float64\n",
      " 11  WorldShare    233 non-null    float64\n",
      "dtypes: float64(5), int64(6), object(1)\n",
      "memory usage: 22.0+ KB\n"
     ]
    }
   ],
   "source": [
    "df.info()"
   ]
  },
  {
   "cell_type": "code",
   "execution_count": 50,
   "metadata": {},
   "outputs": [],
   "source": [
    "df['WorldShare']=df['WorldShare'].astype(float)"
   ]
  },
  {
   "cell_type": "code",
   "execution_count": 52,
   "metadata": {},
   "outputs": [],
   "source": [
    "df['UrbanPop']=df['UrbanPop'].astype(float)"
   ]
  },
  {
   "cell_type": "code",
   "execution_count": 54,
   "metadata": {},
   "outputs": [],
   "source": [
    "df['MedianAge']=df['MedianAge'].astype(float)"
   ]
  },
  {
   "cell_type": "code",
   "execution_count": 84,
   "metadata": {},
   "outputs": [],
   "source": [
    "df['Migrants']=df['Migrants'].astype(int)"
   ]
  },
  {
   "cell_type": "code",
   "execution_count": 98,
   "metadata": {},
   "outputs": [],
   "source": [
    "df['Land_Area']=df['Land_Area'].astype(int)"
   ]
  },
  {
   "cell_type": "code",
   "execution_count": 102,
   "metadata": {},
   "outputs": [],
   "source": [
    "df['Density']=df['Density'].astype(int)"
   ]
  },
  {
   "cell_type": "code",
   "execution_count": 104,
   "metadata": {},
   "outputs": [],
   "source": [
    "\n",
    "df['NetChange']=df['NetChange'].astype(int)"
   ]
  },
  {
   "cell_type": "code",
   "execution_count": 106,
   "metadata": {},
   "outputs": [],
   "source": [
    "df['YearlyChange']=df['YearlyChange'].astype(float)"
   ]
  },
  {
   "cell_type": "code",
   "execution_count": 108,
   "metadata": {},
   "outputs": [],
   "source": [
    "df['Population']=df['Population'].astype(int)"
   ]
  },
  {
   "cell_type": "code",
   "execution_count": 115,
   "metadata": {},
   "outputs": [],
   "source": [
    "df['Country']=df['Country'].astype(str)"
   ]
  }
 ],
 "metadata": {
  "kernelspec": {
   "display_name": ".venv",
   "language": "python",
   "name": "python3"
  },
  "language_info": {
   "codemirror_mode": {
    "name": "ipython",
    "version": 3
   },
   "file_extension": ".py",
   "mimetype": "text/x-python",
   "name": "python",
   "nbconvert_exporter": "python",
   "pygments_lexer": "ipython3",
   "version": "3.12.3"
  }
 },
 "nbformat": 4,
 "nbformat_minor": 2
}
